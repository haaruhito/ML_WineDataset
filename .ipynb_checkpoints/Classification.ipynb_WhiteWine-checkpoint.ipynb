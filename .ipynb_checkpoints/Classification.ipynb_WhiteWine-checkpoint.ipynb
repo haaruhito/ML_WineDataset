{
 "cells": [
  {
   "cell_type": "markdown",
   "metadata": {},
   "source": [
    "# Supervised Classification Model For Wine Dataset"
   ]
  },
  {
   "cell_type": "markdown",
   "metadata": {},
   "source": [
    "Exploratory data analysis part can be found in Supervised-Regression-Modelling part. This is the continuos version for white wine data for classification."
   ]
  },
  {
   "cell_type": "code",
   "execution_count": 1,
   "metadata": {
    "ExecuteTime": {
     "end_time": "2021-02-25T07:03:33.569878Z",
     "start_time": "2021-02-25T07:03:31.382983Z"
    }
   },
   "outputs": [
    {
     "name": "stdout",
     "output_type": "stream",
     "text": [
      "(4898, 12)\n",
      "<class 'pandas.core.frame.DataFrame'>\n",
      "RangeIndex: 4898 entries, 0 to 4897\n",
      "Data columns (total 12 columns):\n",
      " #   Column                Non-Null Count  Dtype  \n",
      "---  ------                --------------  -----  \n",
      " 0   fixed acidity         4898 non-null   float64\n",
      " 1   volatile acidity      4898 non-null   float64\n",
      " 2   citric acid           4898 non-null   float64\n",
      " 3   residual sugar        4898 non-null   float64\n",
      " 4   chlorides             4898 non-null   float64\n",
      " 5   free sulfur dioxide   4898 non-null   float64\n",
      " 6   total sulfur dioxide  4898 non-null   float64\n",
      " 7   density               4898 non-null   float64\n",
      " 8   pH                    4898 non-null   float64\n",
      " 9   sulphates             4898 non-null   float64\n",
      " 10  alcohol               4898 non-null   float64\n",
      " 11  quality               4898 non-null   int64  \n",
      "dtypes: float64(11), int64(1)\n",
      "memory usage: 459.3 KB\n",
      "None\n",
      "   fixed acidity  volatile acidity  citric acid  residual sugar  chlorides  \\\n",
      "0            7.0              0.27         0.36            20.7      0.045   \n",
      "1            6.3              0.30         0.34             1.6      0.049   \n",
      "\n",
      "   free sulfur dioxide  total sulfur dioxide  density   pH  sulphates  \\\n",
      "0                 45.0                 170.0    1.001  3.0       0.45   \n",
      "1                 14.0                 132.0    0.994  3.3       0.49   \n",
      "\n",
      "   alcohol  quality  \n",
      "0      8.8        6  \n",
      "1      9.5        6  \n"
     ]
    }
   ],
   "source": [
    "import pandas as pd\n",
    "import numpy as np\n",
    "import matplotlib.pyplot as plt\n",
    "%matplotlib inline\n",
    "import seaborn as sns\n",
    "\n",
    "df = pd.read_csv('winequality-white.csv', delimiter=';')\n",
    "print(df.shape)\n",
    "print(df.info())\n",
    "print(df.head(2))"
   ]
  },
  {
   "cell_type": "code",
   "execution_count": 2,
   "metadata": {
    "ExecuteTime": {
     "end_time": "2021-02-25T07:03:34.551118Z",
     "start_time": "2021-02-25T07:03:34.473984Z"
    }
   },
   "outputs": [
    {
     "data": {
      "text/html": [
       "<div>\n",
       "<style scoped>\n",
       "    .dataframe tbody tr th:only-of-type {\n",
       "        vertical-align: middle;\n",
       "    }\n",
       "\n",
       "    .dataframe tbody tr th {\n",
       "        vertical-align: top;\n",
       "    }\n",
       "\n",
       "    .dataframe thead th {\n",
       "        text-align: right;\n",
       "    }\n",
       "</style>\n",
       "<table border=\"1\" class=\"dataframe\">\n",
       "  <thead>\n",
       "    <tr style=\"text-align: right;\">\n",
       "      <th></th>\n",
       "      <th>fixed acidity</th>\n",
       "      <th>volatile acidity</th>\n",
       "      <th>citric acid</th>\n",
       "      <th>residual sugar</th>\n",
       "      <th>chlorides</th>\n",
       "      <th>free sulfur dioxide</th>\n",
       "      <th>total sulfur dioxide</th>\n",
       "      <th>density</th>\n",
       "      <th>pH</th>\n",
       "      <th>sulphates</th>\n",
       "      <th>alcohol</th>\n",
       "      <th>quality</th>\n",
       "    </tr>\n",
       "  </thead>\n",
       "  <tbody>\n",
       "    <tr>\n",
       "      <th>count</th>\n",
       "      <td>4898.000000</td>\n",
       "      <td>4898.000000</td>\n",
       "      <td>4898.000000</td>\n",
       "      <td>4898.000000</td>\n",
       "      <td>4898.000000</td>\n",
       "      <td>4898.000000</td>\n",
       "      <td>4898.000000</td>\n",
       "      <td>4898.000000</td>\n",
       "      <td>4898.000000</td>\n",
       "      <td>4898.000000</td>\n",
       "      <td>4898.000000</td>\n",
       "      <td>4898.000000</td>\n",
       "    </tr>\n",
       "    <tr>\n",
       "      <th>mean</th>\n",
       "      <td>6.854788</td>\n",
       "      <td>0.278241</td>\n",
       "      <td>0.334192</td>\n",
       "      <td>6.391415</td>\n",
       "      <td>0.045772</td>\n",
       "      <td>35.308085</td>\n",
       "      <td>138.360657</td>\n",
       "      <td>0.994027</td>\n",
       "      <td>3.188267</td>\n",
       "      <td>0.489847</td>\n",
       "      <td>10.514267</td>\n",
       "      <td>5.877909</td>\n",
       "    </tr>\n",
       "    <tr>\n",
       "      <th>std</th>\n",
       "      <td>0.843868</td>\n",
       "      <td>0.100795</td>\n",
       "      <td>0.121020</td>\n",
       "      <td>5.072058</td>\n",
       "      <td>0.021848</td>\n",
       "      <td>17.007137</td>\n",
       "      <td>42.498065</td>\n",
       "      <td>0.002991</td>\n",
       "      <td>0.151001</td>\n",
       "      <td>0.114126</td>\n",
       "      <td>1.230621</td>\n",
       "      <td>0.885639</td>\n",
       "    </tr>\n",
       "    <tr>\n",
       "      <th>min</th>\n",
       "      <td>3.800000</td>\n",
       "      <td>0.080000</td>\n",
       "      <td>0.000000</td>\n",
       "      <td>0.600000</td>\n",
       "      <td>0.009000</td>\n",
       "      <td>2.000000</td>\n",
       "      <td>9.000000</td>\n",
       "      <td>0.987110</td>\n",
       "      <td>2.720000</td>\n",
       "      <td>0.220000</td>\n",
       "      <td>8.000000</td>\n",
       "      <td>3.000000</td>\n",
       "    </tr>\n",
       "    <tr>\n",
       "      <th>25%</th>\n",
       "      <td>6.300000</td>\n",
       "      <td>0.210000</td>\n",
       "      <td>0.270000</td>\n",
       "      <td>1.700000</td>\n",
       "      <td>0.036000</td>\n",
       "      <td>23.000000</td>\n",
       "      <td>108.000000</td>\n",
       "      <td>0.991723</td>\n",
       "      <td>3.090000</td>\n",
       "      <td>0.410000</td>\n",
       "      <td>9.500000</td>\n",
       "      <td>5.000000</td>\n",
       "    </tr>\n",
       "    <tr>\n",
       "      <th>50%</th>\n",
       "      <td>6.800000</td>\n",
       "      <td>0.260000</td>\n",
       "      <td>0.320000</td>\n",
       "      <td>5.200000</td>\n",
       "      <td>0.043000</td>\n",
       "      <td>34.000000</td>\n",
       "      <td>134.000000</td>\n",
       "      <td>0.993740</td>\n",
       "      <td>3.180000</td>\n",
       "      <td>0.470000</td>\n",
       "      <td>10.400000</td>\n",
       "      <td>6.000000</td>\n",
       "    </tr>\n",
       "    <tr>\n",
       "      <th>75%</th>\n",
       "      <td>7.300000</td>\n",
       "      <td>0.320000</td>\n",
       "      <td>0.390000</td>\n",
       "      <td>9.900000</td>\n",
       "      <td>0.050000</td>\n",
       "      <td>46.000000</td>\n",
       "      <td>167.000000</td>\n",
       "      <td>0.996100</td>\n",
       "      <td>3.280000</td>\n",
       "      <td>0.550000</td>\n",
       "      <td>11.400000</td>\n",
       "      <td>6.000000</td>\n",
       "    </tr>\n",
       "    <tr>\n",
       "      <th>max</th>\n",
       "      <td>14.200000</td>\n",
       "      <td>1.100000</td>\n",
       "      <td>1.660000</td>\n",
       "      <td>65.800000</td>\n",
       "      <td>0.346000</td>\n",
       "      <td>289.000000</td>\n",
       "      <td>440.000000</td>\n",
       "      <td>1.038980</td>\n",
       "      <td>3.820000</td>\n",
       "      <td>1.080000</td>\n",
       "      <td>14.200000</td>\n",
       "      <td>9.000000</td>\n",
       "    </tr>\n",
       "  </tbody>\n",
       "</table>\n",
       "</div>"
      ],
      "text/plain": [
       "       fixed acidity  volatile acidity  citric acid  residual sugar  \\\n",
       "count    4898.000000       4898.000000  4898.000000     4898.000000   \n",
       "mean        6.854788          0.278241     0.334192        6.391415   \n",
       "std         0.843868          0.100795     0.121020        5.072058   \n",
       "min         3.800000          0.080000     0.000000        0.600000   \n",
       "25%         6.300000          0.210000     0.270000        1.700000   \n",
       "50%         6.800000          0.260000     0.320000        5.200000   \n",
       "75%         7.300000          0.320000     0.390000        9.900000   \n",
       "max        14.200000          1.100000     1.660000       65.800000   \n",
       "\n",
       "         chlorides  free sulfur dioxide  total sulfur dioxide      density  \\\n",
       "count  4898.000000          4898.000000           4898.000000  4898.000000   \n",
       "mean      0.045772            35.308085            138.360657     0.994027   \n",
       "std       0.021848            17.007137             42.498065     0.002991   \n",
       "min       0.009000             2.000000              9.000000     0.987110   \n",
       "25%       0.036000            23.000000            108.000000     0.991723   \n",
       "50%       0.043000            34.000000            134.000000     0.993740   \n",
       "75%       0.050000            46.000000            167.000000     0.996100   \n",
       "max       0.346000           289.000000            440.000000     1.038980   \n",
       "\n",
       "                pH    sulphates      alcohol      quality  \n",
       "count  4898.000000  4898.000000  4898.000000  4898.000000  \n",
       "mean      3.188267     0.489847    10.514267     5.877909  \n",
       "std       0.151001     0.114126     1.230621     0.885639  \n",
       "min       2.720000     0.220000     8.000000     3.000000  \n",
       "25%       3.090000     0.410000     9.500000     5.000000  \n",
       "50%       3.180000     0.470000    10.400000     6.000000  \n",
       "75%       3.280000     0.550000    11.400000     6.000000  \n",
       "max       3.820000     1.080000    14.200000     9.000000  "
      ]
     },
     "execution_count": 2,
     "metadata": {},
     "output_type": "execute_result"
    }
   ],
   "source": [
    "df.describe()"
   ]
  },
  {
   "cell_type": "code",
   "execution_count": 5,
   "metadata": {
    "ExecuteTime": {
     "end_time": "2021-02-25T07:03:38.290556Z",
     "start_time": "2021-02-25T07:03:38.282565Z"
    }
   },
   "outputs": [],
   "source": [
    "df.drop(['density','free sulfur dioxide'],axis=1,inplace=True)"
   ]
  },
  {
   "cell_type": "markdown",
   "metadata": {},
   "source": [
    "# Library"
   ]
  },
  {
   "cell_type": "code",
   "execution_count": 6,
   "metadata": {
    "ExecuteTime": {
     "end_time": "2021-02-25T07:03:48.818144Z",
     "start_time": "2021-02-25T07:03:48.459366Z"
    }
   },
   "outputs": [],
   "source": [
    "from sklearn.linear_model import LogisticRegression\n",
    "from sklearn.metrics import accuracy_score, confusion_matrix, classification_report\n",
    "from sklearn.tree import DecisionTreeClassifier\n",
    "from sklearn.ensemble import RandomForestClassifier, GradientBoostingClassifier, BaggingClassifier, AdaBoostClassifier, VotingClassifier\n",
    "from sklearn.model_selection import GridSearchCV, StratifiedShuffleSplit, train_test_split\n",
    "from sklearn.svm import SVC\n",
    "from sklearn.pipeline import Pipeline\n",
    "from sklearn.preprocessing import RobustScaler"
   ]
  },
  {
   "cell_type": "markdown",
   "metadata": {},
   "source": [
    "# X and Y Data"
   ]
  },
  {
   "cell_type": "code",
   "execution_count": 7,
   "metadata": {
    "ExecuteTime": {
     "end_time": "2021-02-25T07:03:53.282230Z",
     "start_time": "2021-02-25T07:03:53.276196Z"
    }
   },
   "outputs": [],
   "source": [
    "X = np.array(df.drop('quality', axis=1))\n",
    "y = np.array(df['quality'])"
   ]
  },
  {
   "cell_type": "markdown",
   "metadata": {},
   "source": [
    "Since the data is already clean but still the outlier prevails, in order to fit well with the model without omitting the outlier, we choose the Robust scaler for scalling the data."
   ]
  },
  {
   "cell_type": "markdown",
   "metadata": {},
   "source": [
    "# Feature Selection"
   ]
  },
  {
   "cell_type": "code",
   "execution_count": 8,
   "metadata": {
    "ExecuteTime": {
     "end_time": "2021-02-25T07:03:57.504818Z",
     "start_time": "2021-02-25T07:03:56.316272Z"
    }
   },
   "outputs": [
    {
     "name": "stdout",
     "output_type": "stream",
     "text": [
      "[0.02503524 0.0528048  0.05025999 0.08890033 0.06301981 0.08637699\n",
      " 0.03959988 0.03069919 0.16775148]\n",
      "(4898, 5)\n"
     ]
    }
   ],
   "source": [
    "from sklearn.feature_selection import mutual_info_regression, SelectKBest\n",
    "target_relation = mutual_info_regression(X, y)\n",
    "print(target_relation)\n",
    "k_select = SelectKBest(k=6)\n",
    "X_feature = k_select.fit_transform(X,y)\n",
    "print(X_feature.shape)"
   ]
  },
  {
   "cell_type": "markdown",
   "metadata": {
    "ExecuteTime": {
     "end_time": "2021-02-24T16:14:00.363458Z",
     "start_time": "2021-02-24T16:14:00.358433Z"
    }
   },
   "source": [
    "# Data Balancing"
   ]
  },
  {
   "cell_type": "code",
   "execution_count": 9,
   "metadata": {
    "ExecuteTime": {
     "end_time": "2021-02-25T07:03:59.591620Z",
     "start_time": "2021-02-25T07:03:59.396187Z"
    }
   },
   "outputs": [
    {
     "name": "stdout",
     "output_type": "stream",
     "text": [
      "Before SMOTE: Counter({6: 2198, 5: 1457, 7: 880, 8: 175, 4: 163, 3: 20, 9: 5})\n",
      "After SMOTE: Counter({6: 2198, 5: 2198, 7: 2198, 8: 2198, 4: 2198, 3: 2198, 9: 2198})\n"
     ]
    }
   ],
   "source": [
    "from imblearn.over_sampling import SMOTE\n",
    "smote = SMOTE(k_neighbors=4)\n",
    "X_train_smote,y_train_smote = smote.fit_sample(X_feature,y)\n",
    "from collections import Counter\n",
    "print('Before SMOTE:', Counter(y))\n",
    "print('After SMOTE:', Counter(y_train_smote))"
   ]
  },
  {
   "cell_type": "markdown",
   "metadata": {},
   "source": [
    "# Train Test Split"
   ]
  },
  {
   "cell_type": "code",
   "execution_count": 10,
   "metadata": {
    "ExecuteTime": {
     "end_time": "2021-02-25T07:04:04.643849Z",
     "start_time": "2021-02-25T07:04:04.621854Z"
    }
   },
   "outputs": [
    {
     "name": "stdout",
     "output_type": "stream",
     "text": [
      "(12308, 5) (3078, 5) (12308,) (3078,)\n"
     ]
    }
   ],
   "source": [
    "strat = StratifiedShuffleSplit(n_splits=1, test_size=0.2, random_state=42)\n",
    "for train_index, test_index in strat.split(X_train_smote, y_train_smote):\n",
    "    X_train, X_test = X_train_smote[train_index], X_train_smote[test_index]\n",
    "    y_train, y_test = y_train_smote[train_index], y_train_smote[test_index]\n",
    "    \n",
    "print(X_train.shape, X_test.shape, y_train.shape, y_test.shape)"
   ]
  },
  {
   "cell_type": "code",
   "execution_count": 11,
   "metadata": {
    "ExecuteTime": {
     "end_time": "2021-02-25T07:04:05.960379Z",
     "start_time": "2021-02-25T07:04:05.950374Z"
    }
   },
   "outputs": [
    {
     "data": {
      "text/plain": [
       "(array([3, 4, 5, 6, 7, 8, 9], dtype=int64),\n",
       " array([1759, 1759, 1758, 1758, 1758, 1758, 1758], dtype=int64))"
      ]
     },
     "execution_count": 11,
     "metadata": {},
     "output_type": "execute_result"
    }
   ],
   "source": [
    "np.unique(y_train, return_counts=True)"
   ]
  },
  {
   "cell_type": "markdown",
   "metadata": {},
   "source": [
    "Stratified Shuffle Split helps to split the data according to the size-proportion of the target data. "
   ]
  },
  {
   "cell_type": "markdown",
   "metadata": {},
   "source": [
    "# Model Selection"
   ]
  },
  {
   "cell_type": "code",
   "execution_count": 30,
   "metadata": {
    "ExecuteTime": {
     "end_time": "2021-02-24T17:45:54.681344Z",
     "start_time": "2021-02-24T17:38:54.936304Z"
    },
    "scrolled": true
   },
   "outputs": [
    {
     "name": "stdout",
     "output_type": "stream",
     "text": [
      "Logistic Regression\n",
      "Cross_validation_score: 0.379590510237244\n",
      "{'C': 100}\n",
      "---------\n",
      "SVC\n",
      "Cross_validation_score: 0.4142841575886072\n",
      "Best parameter : {'C': 200, 'kernel': 'rbf'}\n",
      "---------\n",
      "Decision Tree\n",
      "Cross_validation_score: 0.7537378456318149\n",
      "Best parameter : {'max_depth': 23}\n",
      "---------\n",
      "Random Forest\n",
      "Cross_validation_score: 0.8292986952778881\n",
      "Best parameter : {'max_depth': 26, 'n_estimators': 300}\n",
      "---------\n"
     ]
    }
   ],
   "source": [
    "para_log = {'C': [0.1, 1, 10, 100]}\n",
    "grid_log = GridSearchCV(LogisticRegression(max_iter=10000,random_state=42), param_grid= para_log, cv=4)\n",
    "grid_log.fit(X_train, y_train)\n",
    "print('Logistic Regression')\n",
    "print(f'Cross_validation_score: {grid_log.best_score_}')\n",
    "print(grid_log.best_params_)\n",
    "print('---------')\n",
    "para_svc = {'kernel': ['rbf'],\n",
    "           'C': [100, 150, 200]}\n",
    "grid_svc = GridSearchCV(SVC(), param_grid=para_svc, cv=3)\n",
    "grid_svc.fit(X_train, y_train)\n",
    "print('SVC')\n",
    "print(f'Cross_validation_score: {grid_svc.best_score_}')\n",
    "print(f'Best parameter : {grid_svc.best_params_}')\n",
    "print('---------')\n",
    "para_dt = {'max_depth': range(16,25)}\n",
    "grid_dt = GridSearchCV(DecisionTreeClassifier(random_state=42), param_grid=para_dt, cv=3)\n",
    "grid_dt.fit(X_train, y_train)\n",
    "print('Decision Tree')\n",
    "print(f'Cross_validation_score: {grid_dt.best_score_}')\n",
    "print(f'Best parameter : {grid_dt.best_params_}')\n",
    "print('---------')\n",
    "para_rf = {'n_estimators': [300],\n",
    "          'max_depth': range(20,30)}\n",
    "# Cross-validation score is not increasing upon increasing the max depth from max_depth=21.\n",
    "# Checking for features\n",
    "grid_rf = GridSearchCV(RandomForestClassifier(random_state=42), param_grid=para_rf, cv=3)\n",
    "grid_rf.fit(X_train, y_train)\n",
    "print('Random Forest')\n",
    "print(f'Cross_validation_score: {grid_rf.best_score_}')\n",
    "print(f'Best parameter : {grid_rf.best_params_}')\n",
    "print('---------')"
   ]
  },
  {
   "cell_type": "code",
   "execution_count": 31,
   "metadata": {
    "ExecuteTime": {
     "end_time": "2021-02-24T17:52:56.191073Z",
     "start_time": "2021-02-24T17:52:00.278544Z"
    }
   },
   "outputs": [
    {
     "name": "stdout",
     "output_type": "stream",
     "text": [
      "AdaBoost-Classification\n",
      "Cross_validation_score: 0.3858466038349041\n",
      "Best parameter : {'learning_rate': 0.1, 'n_estimators': 200}\n"
     ]
    }
   ],
   "source": [
    "para_ad = {'n_estimators': [50, 100, 200],\n",
    "          'learning_rate': [0.01,0.1,1,10]}\n",
    "grid_ad = GridSearchCV(AdaBoostClassifier(random_state=42), param_grid=para_ad, cv=4)\n",
    "grid_ad.fit(X_train, y_train)\n",
    "print('AdaBoost-Classification')\n",
    "print(f'Cross_validation_score: {grid_ad.best_score_}')\n",
    "print(f'Best parameter : {grid_ad.best_params_}')"
   ]
  },
  {
   "cell_type": "code",
   "execution_count": 32,
   "metadata": {
    "ExecuteTime": {
     "end_time": "2021-02-24T18:13:02.961245Z",
     "start_time": "2021-02-24T17:58:10.746051Z"
    }
   },
   "outputs": [
    {
     "name": "stdout",
     "output_type": "stream",
     "text": [
      "GradientBoost-Regressor\n",
      "Cross_validation_score: 0.7969585931029365\n",
      "Best parameter : {'max_depth': 7}\n"
     ]
    }
   ],
   "source": [
    "para_gb = {'max_depth': [3,4,5,6,7]}\n",
    "grid_gb = GridSearchCV(GradientBoostingClassifier(n_estimators=300,random_state=42), param_grid=para_gb, cv=3)\n",
    "grid_gb.fit(X_train_smote, y_train_smote)\n",
    "print('GradientBoost-Regressor')\n",
    "print(f'Cross_validation_score: {grid_gb.best_score_}')\n",
    "print(f'Best parameter : {grid_gb.best_params_}')"
   ]
  },
  {
   "cell_type": "markdown",
   "metadata": {},
   "source": [
    "On model selection We have found that the best cross validation score is given by Random forest and Gradient Boosting classification. So, we select these models for our modelling purpose."
   ]
  },
  {
   "cell_type": "markdown",
   "metadata": {},
   "source": [
    "# Gradient Boosting Classification"
   ]
  },
  {
   "cell_type": "code",
   "execution_count": 33,
   "metadata": {
    "ExecuteTime": {
     "end_time": "2021-02-24T18:19:10.900125Z",
     "start_time": "2021-02-24T18:17:56.218579Z"
    }
   },
   "outputs": [
    {
     "name": "stdout",
     "output_type": "stream",
     "text": [
      "Accuracy score: 0.9779077322936972\n",
      "              precision    recall  f1-score   support\n",
      "\n",
      "           3       1.00      1.00      1.00       439\n",
      "           4       1.00      1.00      1.00       439\n",
      "           5       0.96      0.93      0.94       440\n",
      "           6       0.92      0.96      0.94       440\n",
      "           7       0.97      0.97      0.97       440\n",
      "           8       1.00      1.00      1.00       440\n",
      "           9       1.00      1.00      1.00       440\n",
      "\n",
      "    accuracy                           0.98      3078\n",
      "   macro avg       0.98      0.98      0.98      3078\n",
      "weighted avg       0.98      0.98      0.98      3078\n",
      "\n"
     ]
    }
   ],
   "source": [
    "gb = GradientBoostingClassifier(n_estimators=300,random_state=42, learning_rate= 0.1, max_depth= 5, )\n",
    "gb.fit(X_train_smote,y_train_smote)\n",
    "pred_gb = gb.predict(X_test)\n",
    "score_gb = accuracy_score(y_test,pred_gb)\n",
    "print(f'Accuracy score: {score_gb}')\n",
    "print(classification_report(y_test,pred_gb))\n",
    "con_gb = confusion_matrix(y_test,pred_gb)"
   ]
  },
  {
   "cell_type": "code",
   "execution_count": 36,
   "metadata": {
    "ExecuteTime": {
     "end_time": "2021-02-24T18:21:26.900552Z",
     "start_time": "2021-02-24T18:21:26.613961Z"
    }
   },
   "outputs": [
    {
     "data": {
      "image/png": "[encoded data removed]",
      "text/plain": [
       "<Figure size 576x576 with 2 Axes>"
      ]
     },
     "metadata": {
      "needs_background": "light"
     },
     "output_type": "display_data"
    }
   ],
   "source": [
    "plt.figure(figsize=(8,8))\n",
    "sns.heatmap(con_gb,annot=True, fmt = '.3g', xticklabels=range(3,10),\n",
    "            yticklabels=range(3,10))\n",
    "plt.title(\"Confusion matrix of Gradient Boosting\");"
   ]
  },
  {
   "cell_type": "markdown",
   "metadata": {},
   "source": [
    "##  Explanation of the result"
   ]
  },
  {
   "cell_type": "markdown",
   "metadata": {},
   "source": [
    "Although our model achieve approximately 0.79 in our cross-validation score, this model achive approximately 0.97 while introducing alien data. From Confusion matrix we found that most of the data were truely predicted. Apart from that, our model for test data is mostly misclassifying between quality level 5 followed by 4."
   ]
  },
  {
   "cell_type": "markdown",
   "metadata": {},
   "source": [
    "# Random forest"
   ]
  },
  {
   "cell_type": "code",
   "execution_count": 38,
   "metadata": {
    "ExecuteTime": {
     "end_time": "2021-02-24T18:24:48.968263Z",
     "start_time": "2021-02-24T18:24:42.370552Z"
    }
   },
   "outputs": [
    {
     "name": "stdout",
     "output_type": "stream",
     "text": [
      "Accuracy score: 0.866796621182586\n",
      "              precision    recall  f1-score   support\n",
      "\n",
      "           3       0.97      1.00      0.99       439\n",
      "           4       0.89      0.95      0.92       439\n",
      "           5       0.79      0.74      0.76       440\n",
      "           6       0.73      0.64      0.68       440\n",
      "           7       0.78      0.81      0.80       440\n",
      "           8       0.90      0.93      0.91       440\n",
      "           9       0.99      1.00      0.99       440\n",
      "\n",
      "    accuracy                           0.87      3078\n",
      "   macro avg       0.86      0.87      0.86      3078\n",
      "weighted avg       0.86      0.87      0.86      3078\n",
      "\n"
     ]
    },
    {
     "data": {
      "image/png": "[encoded data removed]",
      "text/plain": [
       "<Figure size 576x576 with 2 Axes>"
      ]
     },
     "metadata": {
      "needs_background": "light"
     },
     "output_type": "display_data"
    }
   ],
   "source": [
    "rf_c = RandomForestClassifier(max_depth=26, n_estimators=300,random_state=42)\n",
    "rf_c.fit(X_train,y_train)\n",
    "pred_rf = rf_c.predict(X_test)\n",
    "score_rf = accuracy_score(y_test,pred_rf)\n",
    "print(f'Accuracy score: {score_rf}')\n",
    "print(classification_report(y_test,pred_rf))\n",
    "con_rf = confusion_matrix(y_test,pred_rf)\n",
    "plt.figure(figsize=(8,8))\n",
    "sns.heatmap(con_rf,annot=True, fmt = '.3g', xticklabels=range(3,10),\n",
    "            yticklabels=range(3,10))\n",
    "plt.title(\"Confusion matrix of Random Forest\");"
   ]
  },
  {
   "cell_type": "markdown",
   "metadata": {},
   "source": [
    "## Ilustrating the feature selection for Random Forest model"
   ]
  },
  {
   "cell_type": "code",
   "execution_count": 43,
   "metadata": {
    "ExecuteTime": {
     "end_time": "2021-02-24T18:29:40.000712Z",
     "start_time": "2021-02-24T18:29:39.876219Z"
    }
   },
   "outputs": [
    {
     "data": {
      "image/png": "[encoded data removed]",
      "text/plain": [
       "<Figure size 432x288 with 1 Axes>"
      ]
     },
     "metadata": {
      "needs_background": "light"
     },
     "output_type": "display_data"
    }
   ],
   "source": [
    "selected_columns = df.iloc[:,np.argwhere(target_relation>0.043).flatten()].columns\n",
    "selected_columns\n",
    "plt.barh(range(1,6),selected_columns)\n",
    "plt.yticks(range(1,6), df.columns)\n",
    "plt.xlabel('Feature importance score')\n",
    "plt.ylabel('Features');"
   ]
  },
  {
   "cell_type": "markdown",
   "metadata": {
    "ExecuteTime": {
     "end_time": "2021-02-24T11:33:42.639301Z",
     "start_time": "2021-02-24T11:33:42.633748Z"
    }
   },
   "source": [
    "# Conclusion"
   ]
  },
  {
   "cell_type": "markdown",
   "metadata": {},
   "source": [
    "Our classification task give us slightly better model. However in comparing between Gradient Boosting and Random forest we find that, Gradient boost model is nicely fitting with the accuracy of approximately 0.97. If consider with the accuracy score to the cross-validation score our cross-validation score is lower than our accuracy score. This might be the chance of overfitting for the future reference. But the Random forest classifier is generalizing well with the cross-validating score of 0.82 and accuracy score of 0.87."
   ]
  },
  {
   "cell_type": "code",
   "execution_count": null,
   "metadata": {},
   "outputs": [],
   "source": []
  },
  {
   "cell_type": "markdown",
   "metadata": {},
   "source": [
    "Note:\n",
    "do data analysis, show the relationship between each features, or may be selected features before going to modeling. clean data, see normalize (model selection, cross validation score of those models,\n",
    "For the classification, make your own class, like good, okay and bad...\n",
    "in model selection, no need to do grid search, but use cross validation"
   ]
  }
 ],
 "metadata": {
  "kernelspec": {
   "display_name": "Python 3",
   "language": "python",
   "name": "python3"
  },
  "language_info": {
   "codemirror_mode": {
    "name": "ipython",
    "version": 3
   },
   "file_extension": ".py",
   "mimetype": "text/x-python",
   "name": "python",
   "nbconvert_exporter": "python",
   "pygments_lexer": "ipython3",
   "version": "3.8.3"
  },
  "toc": {
   "base_numbering": 1,
   "nav_menu": {},
   "number_sections": true,
   "sideBar": true,
   "skip_h1_title": false,
   "title_cell": "Table of Contents",
   "title_sidebar": "Contents",
   "toc_cell": false,
   "toc_position": {},
   "toc_section_display": true,
   "toc_window_display": false
  },
  "varInspector": {
   "cols": {
    "lenName": 16,
    "lenType": 16,
    "lenVar": 40
   },
   "kernels_config": {
    "python": {
     "delete_cmd_postfix": "",
     "delete_cmd_prefix": "del ",
     "library": "var_list.py",
     "varRefreshCmd": "print(var_dic_list())"
    },
    "r": {
     "delete_cmd_postfix": ") ",
     "delete_cmd_prefix": "rm(",
     "library": "var_list.r",
     "varRefreshCmd": "cat(var_dic_list()) "
    }
   },
   "types_to_exclude": [
    "module",
    "function",
    "builtin_function_or_method",
    "instance",
    "_Feature"
   ],
   "window_display": false
  }
 },
 "nbformat": 4,
 "nbformat_minor": 4
}
